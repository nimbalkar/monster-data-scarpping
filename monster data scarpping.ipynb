{
 "cells": [
  {
   "cell_type": "code",
   "execution_count": 1,
   "metadata": {},
   "outputs": [
    {
     "name": "stdout",
     "output_type": "stream",
     "text": [
      "Experience: 4-6 Years\n",
      "                                \n",
      "Location: Pune\n",
      "                                \n",
      "Job_Description: Job Description Position : Data ScientistLocation: PuneExperience : 4-6 yearsPackage upto 12LPABusiness Analyst(Tech) – Job DescriptionThe below are the key skills and the Ideal Candidate for hire would be one who has done projects on facial recognition.Good knowledge on deep learning concept and extensive knowledge on Open CV,Computer vision,Kaggle,Tensor Flow.Background: join a startup doing work around safety, security, efficiency in the manufacturing and retail domain. Build innovative workflows on top of existing IOT and AI platforms to solve pressing business issues and deliver tangible results. Share in the excitement of building applications and workflows that have never been done before, and get the satisfaction of seeing immediate resultsDescription: Understand business requirements and tie them with what can be solved using currently available tools, techniques and technologies. Design, build, test, document and deploy applications to meet the business and application requirements.Must Have Skills: Machine learning, Computer Vision, Python, TensorFlow. Excellent written and verbal skills. Linux, Docker. Building, deploying applications on the cloud –AWS, GCP, AzureGood to have: knowledge of working with single board computers/edge devices like Rasperry Pi, Asus Tinkerboard, Google Coral. Knowledge of working with various types of cameras and image processing applicationsJob Requirements:1. Use various techniques for acquiring, processing, analysing & understanding digital images2. Evaluate various platforms and models, and build/test applications related to image video processing that perform functions such as object identification & classification for specific needs3. Review, test, document and integrate all application workflows so that they meet all functional, security, integration, performance, quality requirements4. Retrain existing models with new data to deliver higher accuracy5. Support and troubleshoot existing deployments\n",
      "Skills: {'Machine Learning', 'Artificial Intelligence', 'Computer Vision', 'Deep Learning', 'Open Cv'}\n"
     ]
    }
   ],
   "source": [
    "\n",
    "from selenium import webdriver\n",
    "import datetime\n",
    "import time\n",
    "import pandas as pd\n",
    "from bs4 import BeautifulSoup\n",
    "class Monister:\n",
    "    def __init__(self,url):\n",
    "        #link=requests.get(url)\n",
    "        driver=webdriver.Chrome(\"D:\\\\Books\\\\chromedriver.exe\")\n",
    "        driver.get(url)\n",
    "        #print(link.status_code)\n",
    "        self.soup=BeautifulSoup(driver.page_source,'html.parser')\n",
    "    \n",
    "    def experience(self):\n",
    "        exp=self.soup.find('span',attrs={'class':'exp'}).text\n",
    "        return exp\n",
    "    \n",
    "    def location(self):\n",
    "        loc=self.soup.find('div',attrs={'class':'col-xxs-12 col-sm-5 text-ellipsis'}).text\n",
    "        return loc\n",
    "    \n",
    "    def job_desc(self):\n",
    "        jd=self.soup.find('div',attrs={'class':'card-panel apply-panel mt0'})\n",
    "        jd_full=jd.find('div').text\n",
    "        return jd_full\n",
    "    \n",
    "    def skills(self):\n",
    "        skill=self.soup.find('p',attrs={'class':'color-grey-black fs-14 medium'})\n",
    "        a=skill.findAll('span')\n",
    "        skill_list=[]\n",
    "        for i in a:\n",
    "            skill_list.append(i.text.strip())\n",
    "        skill_full=set(skill_list)\n",
    "    \n",
    "        return skill_full\n",
    "obj=Monister(\"https://www.monsterindia.com/job/data-scientist-feasible-technologies-private-limited-pune-1198498?searchId=ae82bae7-8108-440c-9d25-1734ce8aa942\")\n",
    "print(\"Experience:\",obj.experience())\n",
    "print(\"Location:\",obj.location())\n",
    "print(\"Job_Description:\",obj.job_desc())\n",
    "print(\"Skills:\",obj.skills())\n"
   ]
  },
  {
   "cell_type": "code",
   "execution_count": null,
   "metadata": {},
   "outputs": [],
   "source": []
  }
 ],
 "metadata": {
  "kernelspec": {
   "display_name": "Python 3",
   "language": "python",
   "name": "python3"
  },
  "language_info": {
   "codemirror_mode": {
    "name": "ipython",
    "version": 3
   },
   "file_extension": ".py",
   "mimetype": "text/x-python",
   "name": "python",
   "nbconvert_exporter": "python",
   "pygments_lexer": "ipython3",
   "version": "3.7.4"
  }
 },
 "nbformat": 4,
 "nbformat_minor": 2
}
